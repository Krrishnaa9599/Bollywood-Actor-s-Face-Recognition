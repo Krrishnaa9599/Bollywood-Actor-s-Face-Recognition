{
 "cells": [
  {
   "cell_type": "code",
   "execution_count": 3,
   "metadata": {},
   "outputs": [],
   "source": [
    "import numpy as np\n",
    "import seaborn as sns\n",
    "import pandas as pd\n",
    "import matplotlib.pyplot as plt\n",
    "import plotly.express as px\n",
    "import xgboost\n",
    "import cv2\n",
    "import imblearn\n",
    "import tensorflow as tf\n",
    "import os\n",
    "import face_recognition as fr\n",
    "\n",
    "import numpy as np\n",
    "np.set_printoptions(threshold=np.inf)"
   ]
  },
  {
   "cell_type": "code",
   "execution_count": 4,
   "metadata": {},
   "outputs": [
    {
     "name": "stdout",
     "output_type": "stream",
     "text": [
      "Aamir Khan.jpg\n",
      "Akshay Kumar.jpg\n",
      "Amitabh Bachchan.jpg\n",
      "Salman Khan.jpg\n"
     ]
    }
   ],
   "source": [
    "fencodes=[]\n",
    "fnames=[]\n",
    "for dirpath,dirnames,filenames in os.walk('faces'):\n",
    "    for filename in filenames:\n",
    "        print(filename)\n",
    "        img= cv2.imread('faces/'+filename,cv2.IMREAD_UNCHANGED)\n",
    "        \n",
    "        if filename.endswith('.jpg'):\n",
    "            fnames.append(filename[:-4])\n",
    "        elif filename.endswith('.jpeg'):\n",
    "            fnames.append(filename[:-5])\n",
    "        elif filename.endswith('.png'):\n",
    "            fnames.append(filename[:-4])\n",
    "        \n",
    "        fencodes.append(fr.face_encodings(img)[0])\n",
    "\n"
   ]
  },
  {
   "cell_type": "code",
   "execution_count": 5,
   "metadata": {},
   "outputs": [],
   "source": [
    "face_cascade= cv2.CascadeClassifier('haarcascade_frontalface_default.xml')\n",
    "cap=cv2.VideoCapture(0)\n",
    "\n",
    "while True:\n",
    "    ret, frame= cap.read()\n",
    "    \n",
    "    gray= cv2.cvtColor(frame, cv2.COLOR_BGR2RGB)\n",
    "    faces=face_cascade.detectMultiScale(gray, 1.1, 4)\n",
    "\n",
    "    for (x,y,w,h) in faces:\n",
    "        cv2.rectangle(frame, (x,y),(x+w, y+h), (255,0,0),3)\n",
    "\n",
    "        testimg= frame[y:y+w, x:x+h]\n",
    "        try:\n",
    "            testencode= fr.face_encodings(testimg)[0]\n",
    "        except:\n",
    "            continue\n",
    "        results=fr.compare_faces(fencodes, testencode)\n",
    "\n",
    "        \n",
    "        resultind=-1\n",
    "        try:\n",
    "            resultind=results.index(True)\n",
    "        except ValueError:\n",
    "            resultind=-1\n",
    "        \n",
    "        result=-1\n",
    "        \n",
    "        if resultind==-1:\n",
    "            result='Unknown'\n",
    "        else:\n",
    "            result=fnames[resultind]\n",
    "        \n",
    "        frame=cv2.putText(frame,result,(x-4,y-4),cv2.FONT_HERSHEY_SIMPLEX,1,(255,0,0),2)\n",
    "    cv2.imshow('Em', frame)\n",
    "    \n",
    "    if cv2.waitKey(1)==ord('q'):\n",
    "        break\n",
    "\n",
    "cap.release()\n",
    "cv2.destroyAllWindows()"
   ]
  }
 ],
 "metadata": {
  "kernelspec": {
   "display_name": "Python 3.7 (tensorflow)",
   "language": "python",
   "name": "tensorflow"
  },
  "language_info": {
   "codemirror_mode": {
    "name": "ipython",
    "version": 3
   },
   "file_extension": ".py",
   "mimetype": "text/x-python",
   "name": "python",
   "nbconvert_exporter": "python",
   "pygments_lexer": "ipython3",
   "version": "3.7.9"
  }
 },
 "nbformat": 4,
 "nbformat_minor": 4
}

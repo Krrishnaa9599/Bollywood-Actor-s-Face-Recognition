{
 "cells": [
  {
   "cell_type": "code",
   "execution_count": 2,
   "metadata": {},
   "outputs": [],
   "source": [
    "import numpy as np\n",
    "import seaborn as sns\n",
    "import pandas as pd\n",
    "import matplotlib.pyplot as plt\n",
    "import plotly.express as px\n",
    "import xgboost\n",
    "import cv2\n",
    "import imblearn\n",
    "import tensorflow as tf\n",
    "import os"
   ]
  },
  {
   "cell_type": "code",
   "execution_count": 3,
   "metadata": {},
   "outputs": [],
   "source": [
    "from tensorflow.keras.preprocessing.image import ImageDataGenerator,load_img,img_to_array"
   ]
  },
  {
   "cell_type": "code",
   "execution_count": 4,
   "metadata": {},
   "outputs": [],
   "source": [
    "datagen= ImageDataGenerator(\n",
    "                            rotation_range=40,\n",
    "                            width_shift_range=0.2,\n",
    "                            height_shift_range=0.2,\n",
    "                            shear_range=0.2,\n",
    "                            zoom_range=0.2,\n",
    "                            brightness_range=[0.2,1.1],\n",
    "                            horizontal_flip=True,\n",
    "                            fill_mode='constant', cval=125)"
   ]
  },
  {
   "cell_type": "code",
   "execution_count": 8,
   "metadata": {},
   "outputs": [],
   "source": [
    "actors=['Aamir_Khan', 'Akshay_Kumar', 'Amitabh_Bachchan', 'Salman_Khan']\n",
    "actor=actors[3]\n",
    "\n",
    "for dirpath,dirnames,filenames in os.walk('D:/Programming/Machine Learning/Datasets/aval/'+actor):\n",
    "    for filename in filenames:\n",
    "        #img= cv2.imread('D:/Programming/Machine Learning/Datasets/bb/'+actor+'/'+filename,1)\n",
    "        img=load_img('D:/Programming/Machine Learning/Datasets/aval/'+actor+'/'+filename)\n",
    "        x=img_to_array(img)\n",
    "        x=x.reshape((1,)+x.shape)\n",
    "        i=0\n",
    "        for batch in datagen.flow(x, batch_size=1, \n",
    "                                 save_to_dir='D:/Programming/Machine Learning/Datasets/avalff/'+actor,\n",
    "                                 save_prefix=actor):\n",
    "            i=i+1\n",
    "            if i>3:\n",
    "                break\n",
    "    "
   ]
  },
  {
   "cell_type": "code",
   "execution_count": null,
   "metadata": {},
   "outputs": [],
   "source": []
  }
 ],
 "metadata": {
  "kernelspec": {
   "display_name": "Python 3.7 (tensorflow)",
   "language": "python",
   "name": "tensorflow"
  },
  "language_info": {
   "codemirror_mode": {
    "name": "ipython",
    "version": 3
   },
   "file_extension": ".py",
   "mimetype": "text/x-python",
   "name": "python",
   "nbconvert_exporter": "python",
   "pygments_lexer": "ipython3",
   "version": "3.7.9"
  }
 },
 "nbformat": 4,
 "nbformat_minor": 4
}
